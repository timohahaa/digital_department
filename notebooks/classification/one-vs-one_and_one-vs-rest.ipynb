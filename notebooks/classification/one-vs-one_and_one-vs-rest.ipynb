{
 "cells": [
  {
   "cell_type": "code",
   "execution_count": 10,
   "id": "3ec0259a-968d-4f66-a5f9-c5cfc7911cc6",
   "metadata": {},
   "outputs": [],
   "source": [
    "from sklearn import svm\n",
    "from sklearn.multiclass import OneVsRestClassifier, OneVsOneClassifier\n",
    "from sklearn import datasets\n",
    "from sklearn.model_selection import train_test_split\n",
    "from sklearn.preprocessing import StandardScaler"
   ]
  },
  {
   "cell_type": "code",
   "execution_count": 11,
   "id": "307da7a6-51f8-4abd-abae-30ed9928c1ef",
   "metadata": {},
   "outputs": [],
   "source": [
    "iris = datasets.load_iris()\n",
    "X = iris.data\n",
    "y = iris.target"
   ]
  },
  {
   "cell_type": "code",
   "execution_count": 12,
   "id": "fd7fadab-aec3-48d0-911d-f571d76cd996",
   "metadata": {},
   "outputs": [],
   "source": [
    "X_tr, X_t, y_tr, y_t = train_test_split(X, y, test_size=0.3, stratify=y)\n",
    "\n",
    "sc = StandardScaler().fit(X_tr)\n",
    "\n",
    "X_tr_std = sc.transform(X_tr)\n",
    "X_t_std = sc.transform(X_t)"
   ]
  },
  {
   "cell_type": "code",
   "execution_count": 14,
   "id": "5cf875ce-9daa-4807-bde7-c2d0416e8f13",
   "metadata": {},
   "outputs": [],
   "source": [
    "# one vs one\n",
    "\n",
    "ovo = OneVsOneClassifier(svm.SVC()).fit(X_tr_std, y_tr)\n",
    "\n",
    "y_pred_ovo = ovo.predict(X_t_std)"
   ]
  },
  {
   "cell_type": "code",
   "execution_count": 15,
   "id": "c634b929-3c22-4d11-9b9f-1483ace32d0f",
   "metadata": {},
   "outputs": [],
   "source": [
    "# one vs rest\n",
    "\n",
    "ovr = OneVsRestClassifier(svm.SVC()).fit(X_tr_std, y_tr)\n",
    "\n",
    "y_pred_ovr = ovr.predict(X_t_std)"
   ]
  },
  {
   "cell_type": "code",
   "execution_count": null,
   "id": "4a6f8371-65d4-4a44-9ae6-e7153f230188",
   "metadata": {},
   "outputs": [],
   "source": []
  }
 ],
 "metadata": {
  "kernelspec": {
   "display_name": "Python 3 (ipykernel)",
   "language": "python",
   "name": "python3"
  },
  "language_info": {
   "codemirror_mode": {
    "name": "ipython",
    "version": 3
   },
   "file_extension": ".py",
   "mimetype": "text/x-python",
   "name": "python",
   "nbconvert_exporter": "python",
   "pygments_lexer": "ipython3",
   "version": "3.10.12"
  }
 },
 "nbformat": 4,
 "nbformat_minor": 5
}
